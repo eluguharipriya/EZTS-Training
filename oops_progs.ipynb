{
 "cells": [
  {
   "cell_type": "code",
   "execution_count": 2,
   "id": "dbb4be36-6bc2-4fa2-951e-77b2ee99de6a",
   "metadata": {},
   "outputs": [
    {
     "name": "stdout",
     "output_type": "stream",
     "text": [
      "Haripriya 20 F\n"
     ]
    }
   ],
   "source": [
    "class student:\n",
    "    def __init__(self,nm,ag,gn): #init means main to class,allocate memory inside the class,single underscore in init is for protected ,double is for private and no symbol for public\n",
    "        self.name=nm  #self is a keyword\n",
    "        self.age=ag\n",
    "        self.gender=gn\n",
    "st1=student(\"Haripriya\",20,'F')\n",
    "print(st1.name,st1.age,st1.gender)"
   ]
  },
  {
   "cell_type": "code",
   "execution_count": 8,
   "id": "5e05ba1a-0cd9-429a-b206-0119c86a3f4e",
   "metadata": {},
   "outputs": [
    {
     "name": "stdin",
     "output_type": "stream",
     "text": [
      "Enter your Name: Hari\n",
      "Enter your age: 20\n",
      "Enter Your gender Female\n"
     ]
    },
    {
     "name": "stdout",
     "output_type": "stream",
     "text": [
      "Hari 20 Female\n"
     ]
    }
   ],
   "source": [
    "class STD:\n",
    "    def __init__(self):\n",
    "        self.name=None\n",
    "        self.age=None\n",
    "        self.gender=None\n",
    "st2=STD()\n",
    "\n",
    "st2.name=input(\"Enter your Name:\")\n",
    "st2.age=int(input(\"Enter your age:\"))\n",
    "st2.gender=input(\"Enter Your gender\")\n",
    "print(st2.name,st2.age,st2.gender)       "
   ]
  },
  {
   "cell_type": "code",
   "execution_count": 10,
   "id": "958061b3-338a-41ff-9695-eae833fb7c88",
   "metadata": {},
   "outputs": [
    {
     "name": "stdin",
     "output_type": "stream",
     "text": [
      "Enter your Name: seenaa\n",
      "Enter your age: 43\n",
      "Enter Your gender MAle\n"
     ]
    },
    {
     "name": "stdout",
     "output_type": "stream",
     "text": [
      "seenaa 43 MAle\n"
     ]
    }
   ],
   "source": [
    "class STD:\n",
    "    def __init__(self,nm,age,gn):\n",
    "        self.name=nm\n",
    "        self.age=age\n",
    "        self.gender=gn\n",
    "\n",
    "a=input(\"Enter your Name:\")\n",
    "b=int(input(\"Enter your age:\"))\n",
    "c=input(\"Enter Your gender\")\n",
    "\n",
    "st3=STD(a,b,c)\n",
    "print(st3.name,st3.age,st3.gender)  \n",
    "st3.age=21\n"
   ]
  },
  {
   "cell_type": "code",
   "execution_count": 11,
   "id": "41b6fef8-b2b1-4950-bf21-8746408ba73d",
   "metadata": {},
   "outputs": [
    {
     "name": "stdout",
     "output_type": "stream",
     "text": [
      "2\n",
      "5\n",
      "None\n"
     ]
    }
   ],
   "source": [
    "class A:\n",
    "    def __init__(self,a,b):\n",
    "        self.A=a\n",
    "        self.__B=b\n",
    "    def printB(self):\n",
    "        print(self.__B)\n",
    "ob1=A(2,5)\n",
    "print(ob1.A)\n",
    "print(ob1.printB())"
   ]
  },
  {
   "cell_type": "code",
   "execution_count": 12,
   "id": "badd81c7-5e13-4f38-b505-f4e414f39ae1",
   "metadata": {},
   "outputs": [
    {
     "name": "stdout",
     "output_type": "stream",
     "text": [
      "2\n",
      "5\n"
     ]
    }
   ],
   "source": [
    "class A:\n",
    "    def __init__(self,a,b):\n",
    "        self.A=a\n",
    "        self.__B=b\n",
    "    def printB(self):\n",
    "        print(self.__B)\n",
    "ob1=A(2,5)\n",
    "print(ob1.A)\n",
    "ob1.printB()"
   ]
  },
  {
   "cell_type": "code",
   "execution_count": null,
   "id": "fb9319a7-24bf-4c9b-ac92-2d770b88ea7e",
   "metadata": {},
   "outputs": [],
   "source": [
    "create A student class that Holds the details of Student like Name USN and the Marks in 5 subjects percentage and grade.\n",
    "\n",
    "create 5 student object and get the data for name usn and marks after that find the percentage and grade and store it to the class object.\n"
   ]
  },
  {
   "cell_type": "code",
   "execution_count": 18,
   "id": "eb200b61-0cc4-47eb-8872-efee98a29fb4",
   "metadata": {},
   "outputs": [
    {
     "name": "stdin",
     "output_type": "stream",
     "text": [
      "Enter your Name: ELUGU HARIPRIYA\n",
      "Enter your USN: 45\n",
      "Enter Your MATHS MARKS: 67\n",
      "Enter Your SCIENCE MARKS: 78\n",
      "Enter Your BIOLOGY MARKS: 98\n",
      "Enter Your ENGLISH MARKS: 56\n",
      "Enter Your TELUGU MARKS: 67\n"
     ]
    },
    {
     "name": "stdout",
     "output_type": "stream",
     "text": [
      "percentage 73.2\n",
      "ELUGU HARIPRIYA 45 67 78 98 56 67 73.2 A grade\n"
     ]
    }
   ],
   "source": [
    "class STD:\n",
    "    def __init__(self):\n",
    "        self.name=None\n",
    "        self.USN=None\n",
    "        self.MATH=None\n",
    "        self.SCI=None\n",
    "        self.BIO=None\n",
    "        self.ENG=None\n",
    "        self.TEL=None\n",
    "        self.PER=None\n",
    "        self.GRADE=None\n",
    "st2=STD()\n",
    "\n",
    "st2.name=input(\"Enter your Name:\")\n",
    "st2.USN=int(input(\"Enter your USN:\"))\n",
    "st2.MATH=int(input(\"Enter Your MATHS MARKS:\"))\n",
    "st2.SCI=int(input(\"Enter Your SCIENCE MARKS:\"))\n",
    "st2.BIO=int(input(\"Enter Your BIOLOGY MARKS:\"))\n",
    "st2.ENG=int(input(\"Enter Your ENGLISH MARKS:\"))\n",
    "st2.TEL=int(input(\"Enter Your TELUGU MARKS:\"))\n",
    "st2.PER=(((st2.MATH+st2.SCI+st2.BIO+st2.ENG+st2.TEL)/500)*100)\n",
    "print(\"percentage\",st2.PER)\n",
    "if st2.PER>70:\n",
    "    st2.GRADE=\"A grade\"\n",
    "else:\n",
    "    st2.GRADE=\"B grade\"\n",
    "\n",
    "print(st2.name,st2.USN,st2.MATH,st2.SCI,st2.BIO,st2.ENG,st2.TEL,st2.PER,st2.GRADE)       "
   ]
  },
  {
   "cell_type": "code",
   "execution_count": 22,
   "id": "8a2d781d-5d73-44d2-830d-f05a6ea745ca",
   "metadata": {},
   "outputs": [
    {
     "name": "stdout",
     "output_type": "stream",
     "text": [
      "<class '__main__.Std'>\n"
     ]
    },
    {
     "name": "stdin",
     "output_type": "stream",
     "text": [
      "Enter your Name:  hari\n",
      "Enter Your USN:  043\n",
      "Enter Your Marks in Sub1 :  89\n",
      "Enter Your Marks in Sub2 :  90\n",
      "Enter Your Marks in Sub3 :  87\n",
      "Enter Your Marks in Sub4 :  99\n",
      "Enter Your Marks in Sub5 :  87\n"
     ]
    },
    {
     "name": "stdout",
     "output_type": "stream",
     "text": [
      "Name:  hari\n",
      "USN :  043\n",
      "Marks in Five Subject are :\n",
      "Subject 1 = 89\n",
      "Subject 2 = 90\n",
      "Subject 3 = 87\n",
      "Subject 4 = 99\n",
      "Subject 5 = 87\n",
      "Percentage :  90.4\n",
      "Grade :  A\n"
     ]
    }
   ],
   "source": [
    "class Std:\n",
    "    def __init__(self): \n",
    "        self.__USN = None\n",
    "        self.__Name = None\n",
    "        self.__Marks = []\n",
    "        self.__Percentage = None\n",
    "        self.__Grade = None\n",
    "\n",
    "    def Std_Input(self):\n",
    "        self.__Name = input(\"Enter your Name: \")\n",
    "        self.__USN = input(\"Enter Your USN: \")\n",
    "        for i in range (0,5):\n",
    "            marks = input(f\"Enter Your Marks in Sub{i+1} : \")\n",
    "            self.__Marks.append(marks)\n",
    "\n",
    "    def calc_percentage (self):\n",
    "        sum = 0\n",
    "        for i in self.__Marks:\n",
    "            sum = sum + int(i)\n",
    "        self.__Percentage = (sum/500)*100\n",
    "\n",
    "    def calc_Grade(self):\n",
    "        per = float(self.__Percentage)\n",
    "        if per<=100 and per >=80:\n",
    "            self.__Grade = \"A\"\n",
    "        elif per<80 and per >=60:\n",
    "            self.__Grade = \"B\"\n",
    "        elif per<60 and per >=40:\n",
    "            self.__Grade = \"C\"\n",
    "        elif per<40 and per >=0:\n",
    "            self.__Grade = \"D\"\n",
    "        else: \n",
    "            self.__Grade = \"Inavlid\"\n",
    "\n",
    "    def print_details(self):\n",
    "        print(\"Name: \",self.__Name)\n",
    "        print(\"USN : \",self.__USN)\n",
    "        print(\"Marks in Five Subject are :\")\n",
    "        for i in range(0,5):\n",
    "            print(f\"Subject {i+1} = {self.__Marks[i]}\")\n",
    "        print(\"Percentage : \", self.__Percentage)\n",
    "        print(\"Grade : \", self.__Grade)\n",
    "\n",
    "    def convert_list(self):\n",
    "        st_list = [self.__USN,self.__Name,self.__Marks,self.__Percentage,self.__Grade]\n",
    "        return st_list\n",
    "\n",
    "    def covert_ob(self,stu_list):\n",
    "        self.__USN = stu_list[0]\n",
    "        self.__Name = stu_list[1]\n",
    "        self.__Marks = stu_list[2]\n",
    "        self.__Percentage = stu_list[3]\n",
    "        self.__Grade = stu_list[4]\n",
    "\n",
    "\n",
    "\n",
    "st1 = Std()\n",
    "\n",
    "print(type(st1))\n",
    "\n",
    "st1.Std_Input()\n",
    "\n",
    "st1.calc_percentage()\n",
    "st1.calc_Grade()\n",
    "\n",
    "st1.print_details()\n"
   ]
  },
  {
   "cell_type": "code",
   "execution_count": 23,
   "id": "166baddf-3509-412d-a237-a121fa250a25",
   "metadata": {},
   "outputs": [],
   "source": [
    "with open(\"student.txt\",'wb') as File:\n",
    "    L=st1.convert_list()\n",
    "    data = f\"{L[0]}|{L[1]}|{L[2][0]},{L[2][1]},{L[2][2]},{L[2][3]},{L[2][4]}|{L[3]}|{L[4]}\\n\"\n",
    "    File.write(data.encode())\n",
    "    File.close()"
   ]
  },
  {
   "cell_type": "code",
   "execution_count": 24,
   "id": "73469834-4e6e-4fd1-afe8-d341fc02dacf",
   "metadata": {},
   "outputs": [
    {
     "name": "stdout",
     "output_type": "stream",
     "text": [
      "043|hari|89,90,87,99,87|90.4|A\n",
      "\n",
      "['043', 'hari', ['89', '90', '87', '99', '87'], '90.4', 'A\\n']\n",
      "Name:  hari\n",
      "USN :  043\n",
      "Marks in Five Subject are :\n",
      "Subject 1 = 89\n",
      "Subject 2 = 90\n",
      "Subject 3 = 87\n",
      "Subject 4 = 99\n",
      "Subject 5 = 87\n",
      "Percentage :  90.4\n",
      "Grade :  A\n",
      "\n"
     ]
    }
   ],
   "source": [
    "stu_list=[]\n",
    "\n",
    "with open(\"student.txt\",'rb') as File:\n",
    "    data = File.readline().decode('utf-8')\n",
    "    print(data)\n",
    "    for i in data.split(\"|\"):\n",
    "        stu_list.append(i)\n",
    "    mrks=stu_list[2]\n",
    "    mrks_list = []\n",
    "    for i in mrks.split(','):\n",
    "        mrks_list.append(i)\n",
    "    stu_list[2]=mrks_list\n",
    "\n",
    "\n",
    "print(stu_list)\n",
    "st2=Std()\n",
    "st2.covert_ob(stu_list)\n",
    "st2.print_details()"
   ]
  },
  {
   "cell_type": "code",
   "execution_count": 1,
   "id": "6c58fd58-92e0-4e91-92ce-59580421c894",
   "metadata": {},
   "outputs": [
    {
     "name": "stdin",
     "output_type": "stream",
     "text": [
      "Enter the age of the dog 5\n"
     ]
    },
    {
     "name": "stdout",
     "output_type": "stream",
     "text": [
      "The age of Max's dog in human years = 35\n"
     ]
    }
   ],
   "source": [
    "#Max has a dog, which is an integer N years old. Now he wants the age of his dog in human years.The internet says that 1 dog year= 7 human years. \n",
    "#Your task is to find out and return an integer value representing the age of Max's dog in human years.\n",
    "\n",
    "n=int(input(\"Enter the age of the dog\"))\n",
    "m=n*7\n",
    "print(\"The age of Max's dog in human years =\",m)\n",
    "\n"
   ]
  },
  {
   "cell_type": "code",
   "execution_count": 9,
   "id": "a9b0a43f-f863-451c-9403-226926164af0",
   "metadata": {},
   "outputs": [],
   "source": []
  }
 ],
 "metadata": {
  "kernelspec": {
   "display_name": "Python 3 (ipykernel)",
   "language": "python",
   "name": "python3"
  },
  "language_info": {
   "codemirror_mode": {
    "name": "ipython",
    "version": 3
   },
   "file_extension": ".py",
   "mimetype": "text/x-python",
   "name": "python",
   "nbconvert_exporter": "python",
   "pygments_lexer": "ipython3",
   "version": "3.12.4"
  }
 },
 "nbformat": 4,
 "nbformat_minor": 5
}
