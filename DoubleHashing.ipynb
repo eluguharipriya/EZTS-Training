{
 "cells": [
  {
   "cell_type": "code",
   "execution_count": 2,
   "id": "2069beda-7d77-4515-b087-cb77ededef44",
   "metadata": {},
   "outputs": [
    {
     "name": "stdout",
     "output_type": "stream",
     "text": [
      "[81, 34, 46, 56, 45, 104, 70, 37, 39, 20, 99]\n"
     ]
    }
   ],
   "source": [
    "#Double Hashing\n",
    "input_list=[20,34,45,70,56,81,104,37,46,39,99]\n",
    "hash_list=[False]*11\n",
    "for i in input_list:\n",
    "    h1_k=i%11\n",
    "    h2_k=8-(i%8)\n",
    "    for j in range(0,11):\n",
    "        h_k=(h1_k+j*h2_k)%11\n",
    "        if hash_list[h_k]==False:\n",
    "            hash_list[h_k]=i\n",
    "            break\n",
    "\n",
    "print(hash_list)\n",
    "            \n",
    "        "
   ]
  },
  {
   "cell_type": "code",
   "execution_count": 4,
   "id": "c2d2ae3e-780e-4f81-a66c-66f718877147",
   "metadata": {},
   "outputs": [
    {
     "name": "stdout",
     "output_type": "stream",
     "text": [
      "(1, 4)\n",
      "(2, 3)\n",
      "(3, 2)\n"
     ]
    }
   ],
   "source": [
    "#Zip Function\n",
    "a=[1,2,3,4]\n",
    "b=[4,3,2]\n",
    "for i in zip(a,b):\n",
    "    print(i)\n"
   ]
  },
  {
   "cell_type": "code",
   "execution_count": 9,
   "id": "e8b7f663-9cf2-4c66-95ab-5ff216acab0f",
   "metadata": {},
   "outputs": [
    {
     "name": "stdout",
     "output_type": "stream",
     "text": [
      "[3, 2, 1, 0]\n",
      "[2, 1, 0]\n",
      "(3, 2)\n",
      "(2, 1)\n",
      "(1, 0)\n"
     ]
    }
   ],
   "source": [
    "q=4\n",
    "i=3\n",
    "x=list(range(q-1,-1,-1))\n",
    "print(x)\n",
    "y=list(range(i-1,-1,-1))\n",
    "print(y)\n",
    "for x in zip(range(q-1,-1,-1),range(i-1,-1,-1)):\n",
    "    print(x)"
   ]
  },
  {
   "cell_type": "code",
   "execution_count": 2,
   "id": "4f5414c4-5237-4e9a-8354-1f74d9d192f8",
   "metadata": {},
   "outputs": [
    {
     "name": "stdout",
     "output_type": "stream",
     "text": [
      "[0, 0, 1, 0]\n",
      "[1, 0, 0, 0]\n",
      "[0, 0, 0, 1]\n",
      "[0, 1, 0, 0]\n"
     ]
    }
   ],
   "source": [
    "#'N\" Queens\n",
    "def safe(res,row,col):\n",
    "\n",
    "        for j in range(col):\n",
    "                if res[row][j]==1:\n",
    "                        return False\n",
    "\n",
    "        for j in range(row):\n",
    "                if res[j][col]==1:\n",
    "                        return False\n",
    "                \n",
    "        for i,j in zip(range(col,-1,-1),range(row,-1,-1)):  \n",
    "                if res[j][i]==1:\n",
    "                        return False\n",
    "\n",
    "        for i,j in zip(range(col,queens),range(row,-1,-1)):  \n",
    "                if res[j][i]==1:\n",
    "                        return False\n",
    "        return True\n",
    "\n",
    "\n",
    "def solve_queens(res,col):\n",
    "\n",
    "    if col>=queens:\n",
    "        return True\n",
    "    for row in range(queens):\n",
    "        \n",
    "        if safe(res,row,col)==True:\n",
    "            res[row][col]=1\n",
    "            if solve_queens(res,col+1)==True:\n",
    "                   return True\n",
    "        res[row][col]=0\n",
    "    return False\n",
    "                   \n",
    "\n",
    "queens=4\n",
    "res=[[0 for i in range(queens)] for j in range(queens)]\n",
    "\n",
    "if solve_queens(res,0)==False:\n",
    "       print(\"No Solution\")\n",
    "for i in range(queens):\n",
    "       print(res[i])"
   ]
  },
  {
   "cell_type": "code",
   "execution_count": 1,
   "id": "dd9c594d-d9af-469a-aaab-e20e77daa5cf",
   "metadata": {},
   "outputs": [
    {
     "name": "stdin",
     "output_type": "stream",
     "text": [
      " 18\n",
      " 1 5 7\n"
     ]
    },
    {
     "name": "stdout",
     "output_type": "stream",
     "text": [
      "[7, 5, 1]\n",
      "6\n"
     ]
    }
   ],
   "source": [
    "#Available Denominations\n",
    "amount=int(input())\n",
    "ls=list(map(int,input().split()))\n",
    "ls.sort(reverse=True)\n",
    "print(ls)\n",
    "coins=0\n",
    "for i in ls:\n",
    "    while amount>=i:\n",
    "        amount-=i\n",
    "        coins+=1\n",
    "\n",
    "print(coins)"
   ]
  },
  {
   "cell_type": "code",
   "execution_count": null,
   "id": "c4bed2f1-c23a-40ec-8468-4276818373a7",
   "metadata": {},
   "outputs": [],
   "source": []
  }
 ],
 "metadata": {
  "kernelspec": {
   "display_name": "Python 3 (ipykernel)",
   "language": "python",
   "name": "python3"
  },
  "language_info": {
   "codemirror_mode": {
    "name": "ipython",
    "version": 3
   },
   "file_extension": ".py",
   "mimetype": "text/x-python",
   "name": "python",
   "nbconvert_exporter": "python",
   "pygments_lexer": "ipython3",
   "version": "3.12.4"
  }
 },
 "nbformat": 4,
 "nbformat_minor": 5
}
