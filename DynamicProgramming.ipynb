{
 "cells": [
  {
   "cell_type": "code",
   "execution_count": 18,
   "id": "3d03ee84-fa61-457d-93a8-026cce21ce08",
   "metadata": {},
   "outputs": [
    {
     "name": "stdout",
     "output_type": "stream",
     "text": [
      "51\n"
     ]
    }
   ],
   "source": [
    "#Max Profit\n",
    "def calc_max(p,w,c,n):\n",
    "    if n==0 or c==0:\n",
    "        return 0\n",
    "    if (w[n-1]>c):\n",
    "        return calc_max(p,w,c,n-1)\n",
    "    else:\n",
    "        return max(p[n-1]+calc_max(p,w,c-w[n-1],n-1),calc_max(p,w,c,n-1))\n",
    "\n",
    "\n",
    "p=[5,10,15,7,8,9,4]\n",
    "w=[1,3,5,4,1,3,2]\n",
    "c=15\n",
    "n=len(p)\n",
    "print(calc_max(p,w,c,n))"
   ]
  },
  {
   "cell_type": "code",
   "execution_count": 23,
   "id": "45ac72c5-647f-4450-8f62-43c013f7fe65",
   "metadata": {},
   "outputs": [
    {
     "name": "stdout",
     "output_type": "stream",
     "text": [
      "400\n",
      "16\n"
     ]
    }
   ],
   "source": [
    "#Lambda function\n",
    "def a(x):\n",
    "    return x*x\n",
    "#def b(x):\n",
    "    #return x-4\n",
    "b=lambda x:x-4\n",
    "print(a(20))\n",
    "print(b(20))\n",
    "\n",
    "    "
   ]
  },
  {
   "cell_type": "code",
   "execution_count": 16,
   "id": "152fd5c9-ade3-4185-a14f-d14ca11d250e",
   "metadata": {},
   "outputs": [
    {
     "name": "stdout",
     "output_type": "stream",
     "text": [
      "51\n",
      "[[-1, -1, -1, -1, -1, -1, -1, -1, -1, -1, -1, -1, -1, -1, -1, -1], [-1, 5, 5, 5, 5, 5, 5, 5, 5, 5, 5, 5, 5, 5, 5, 5], [-1, 5, 5, 10, 15, 15, 15, 15, 15, 15, 15, 15, 15, 15, 15, 15], [-1, -1, -1, -1, -1, 15, 20, 20, 25, 30, 30, 30, 30, 30, 30, 30], [-1, -1, -1, -1, -1, -1, -1, -1, -1, 30, 30, 30, 32, 37, 37, 37], [-1, -1, -1, -1, -1, -1, -1, -1, -1, -1, 38, -1, 38, 40, -1, 45], [-1, -1, -1, -1, -1, -1, -1, -1, -1, -1, -1, -1, -1, 47, -1, 47], [-1, -1, -1, -1, -1, -1, -1, -1, -1, -1, -1, -1, -1, -1, -1, 51]]\n"
     ]
    }
   ],
   "source": [
    "#Recursion+Data storing\n",
    "def calc_max(p,w,c,n):\n",
    "    if n==0 or c==0:\n",
    "        return 0\n",
    "    if dp[n][c]!=-1:\n",
    "        return dp[n][c]\n",
    "    if (w[n-1]<=c):\n",
    "        dp[n][c]=max(p[n-1]+calc_max(p,w,c-w[n-1],n-1),calc_max(p,w,c,n-1))\n",
    "        return dp[n][c]\n",
    "    else:\n",
    "        dp[n][c]=calc_max(p,w,c,n-1)\n",
    "        return dp[n][c]\n",
    "p=[5,10,15,7,8,9,4]\n",
    "w=[1,3,5,4,1,3,2]\n",
    "c=15\n",
    "n=len(p)\n",
    "dp=[[-1 for i in range(c+1)] for j in range(n+1)]\n",
    "\n",
    "print(calc_max(p,w,c,n))\n",
    "print(dp)"
   ]
  },
  {
   "cell_type": "code",
   "execution_count": 22,
   "id": "100df085-54e0-401d-8685-be479367edae",
   "metadata": {},
   "outputs": [
    {
     "name": "stdout",
     "output_type": "stream",
     "text": [
      "[[0, 0, 4, 4, 4, 4, 4, 4, 4, 4, 4, 4, 4, 4, 4, 4], [0, 5, 5, 9, 9, 9, 9, 9, 9, 9, 9, 9, 9, 9, 9, 9], [0, 5, 5, 10, 15, 15, 19, 19, 19, 19, 19, 19, 19, 19, 19, 19], [0, 5, 5, 10, 15, 15, 20, 20, 25, 30, 30, 34, 34, 34, 34, 34], [0, 5, 5, 10, 15, 15, 20, 20, 25, 30, 30, 34, 34, 37, 37, 41], [0, 8, 13, 13, 18, 23, 23, 28, 28, 33, 38, 38, 42, 42, 45, 45], [0, 8, 13, 13, 18, 23, 23, 28, 32, 33, 38, 38, 42, 47, 47, 51], [0, 0, 0, 0, 0, 0, 0, 0, 0, 0, 0, 0, 0, 0, 0, 0]]\n",
      "51\n"
     ]
    }
   ],
   "source": [
    "#Dynamic programming\n",
    "p=[5,10,15,7,8,9,4]\n",
    "w=[1,3,5,4,1,3,2]\n",
    "c=15\n",
    "n=len(p)\n",
    "dp=[[0 for i in range(c+1)] for j in range (n+1)]\n",
    "for i in range(n):\n",
    "    for c in range(c+1):\n",
    "        if i==0 or c==0:\n",
    "            dp[i][c]=0\n",
    "        if c-w[i-1]<0:\n",
    "            dp[i][c]=dp[i-1][c]\n",
    "        else:\n",
    "            dp[i][c]=max(dp[i-1][c],p[i-1]+dp[i-1][c-w[i-1]])\n",
    "print(dp)\n",
    "print(dp[i][c])"
   ]
  }
 ],
 "metadata": {
  "kernelspec": {
   "display_name": "Python 3 (ipykernel)",
   "language": "python",
   "name": "python3"
  },
  "language_info": {
   "codemirror_mode": {
    "name": "ipython",
    "version": 3
   },
   "file_extension": ".py",
   "mimetype": "text/x-python",
   "name": "python",
   "nbconvert_exporter": "python",
   "pygments_lexer": "ipython3",
   "version": "3.12.4"
  }
 },
 "nbformat": 4,
 "nbformat_minor": 5
}
