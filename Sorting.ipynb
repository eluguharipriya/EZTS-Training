{
 "cells": [
  {
   "cell_type": "code",
   "execution_count": 7,
   "id": "eedd11ae-4c47-4562-aed4-19568ad4cce4",
   "metadata": {},
   "outputs": [
    {
     "name": "stdin",
     "output_type": "stream",
     "text": [
      " 10 26 15 4 7\n"
     ]
    },
    {
     "name": "stdout",
     "output_type": "stream",
     "text": [
      "[4, 7, 10, 15, 26]\n",
      "4\n",
      "26\n"
     ]
    }
   ],
   "source": [
    "#BUBBLE SORT\n",
    "L=list(map(int,input().split()))\n",
    "n=len(L)\n",
    "for j in range(0,n):\n",
    "    for i in range(0,n-1-j):\n",
    "        if L[i]>L[i+1]:\n",
    "            L[i],L[i+1]=L[i+1],L[i]\n",
    "print(L)  \n",
    "print(min(L))\n",
    "print(max(L))\n",
    "        \n",
    "    "
   ]
  },
  {
   "cell_type": "code",
   "execution_count": 13,
   "id": "1feb8c69-cd4a-47a5-aa4b-9206c0c785f1",
   "metadata": {},
   "outputs": [
    {
     "name": "stdin",
     "output_type": "stream",
     "text": [
      " 10 40 50 30 20\n"
     ]
    },
    {
     "name": "stdout",
     "output_type": "stream",
     "text": [
      "[10, 20, 30, 40, 50]\n"
     ]
    }
   ],
   "source": [
    "#Selection sort\n",
    "L=list(map(int,input().split()))\n",
    "for j in range(0,n):\n",
    "    pos=j\n",
    "    min=L[j]\n",
    "    for i in range(j,n):\n",
    "        if L[i]<min:\n",
    "            min=L[i]\n",
    "            pos=i\n",
    "            L[j],L[pos]=L[pos],L[j]\n",
    "print(L)        \n",
    "        "
   ]
  },
  {
   "cell_type": "code",
   "execution_count": 2,
   "id": "68d9c513-c2b6-4e88-b281-15be6fb8a829",
   "metadata": {},
   "outputs": [
    {
     "name": "stdin",
     "output_type": "stream",
     "text": [
      " 9 12 3 8 1 5\n"
     ]
    },
    {
     "name": "stdout",
     "output_type": "stream",
     "text": [
      "[1, 3, 5, 8, 9, 12]\n"
     ]
    }
   ],
   "source": [
    "#Insertion  sort\n",
    "def insertionSort(arr):\n",
    "    n = len(arr)   \n",
    "    if n <= 1:\n",
    "        return  \n",
    "    for i in range(1, n): \n",
    "        key = arr[i]  \n",
    "        j = i-1\n",
    "        while j >= 0 and key < arr[j]: \n",
    "            arr[j+1] = arr[j] \n",
    "            j -= 1\n",
    "        arr[j+1] = key  \n",
    "arr =list(map(int,input().split()))\n",
    "insertionSort(arr)\n",
    "print(arr)"
   ]
  },
  {
   "cell_type": "code",
   "execution_count": 24,
   "id": "92d8a094-31aa-4e35-97fd-2ea1df450776",
   "metadata": {},
   "outputs": [
    {
     "name": "stdout",
     "output_type": "stream",
     "text": [
      "0\n",
      "1\n",
      "2\n",
      "3\n",
      "4\n",
      "5\n",
      "6\n",
      "7\n",
      "8\n",
      "9\n"
     ]
    }
   ],
   "source": [
    "def Print_num(n):\n",
    "    if n<10:\n",
    "        print(n)\n",
    "        Print_num(n+1)\n",
    "        return\n",
    "Print_num(0)    \n",
    "    \n"
   ]
  },
  {
   "cell_type": "code",
   "execution_count": 51,
   "id": "f8058ec7-470e-415c-86e0-29066452ce12",
   "metadata": {},
   "outputs": [
    {
     "name": "stdin",
     "output_type": "stream",
     "text": [
      " 6\n"
     ]
    },
    {
     "name": "stdout",
     "output_type": "stream",
     "text": [
      "5\n"
     ]
    }
   ],
   "source": [
    "#Recursion FAB Series\n",
    "def fib(n):\n",
    "    if n==1:\n",
    "        return 0\n",
    "    if n==2:\n",
    "         return 1\n",
    "    return fib(n-1)+fib(n-2)\n",
    "if __name__==\"__main__\":\n",
    "    n=int(input())\n",
    "    print(fib(n))  # for index value we given input\n",
    "#The fibo at that index is the output\n",
    "#5---->input\n",
    "#0 1 1 2 3\n",
    "#output:2+3=5    "
   ]
  },
  {
   "cell_type": "code",
   "execution_count": 52,
   "id": "6757a59f-fb26-4559-b1da-73ea24c258f6",
   "metadata": {},
   "outputs": [
    {
     "name": "stdin",
     "output_type": "stream",
     "text": [
      " 4 7 8 3 2 9 1 5\n"
     ]
    },
    {
     "name": "stdout",
     "output_type": "stream",
     "text": [
      "0 7\n",
      "4 0 7\n",
      "0 0 3\n",
      "3 1 3\n",
      "1 1 2\n",
      "6 5 7\n",
      "sorted array= [1, 2, 3, 4, 5, 7, 8, 9]\n"
     ]
    }
   ],
   "source": [
    "#Quick Sort\n",
    "def divide(L,low,high):       \n",
    "    p=L[high]\n",
    "    pi=high\n",
    "    j=low-1\n",
    "    for i in range (low,high):\n",
    "        if L[i]<=p:\n",
    "            j+=1\n",
    "            L[i],L[j]=L[j],L[i]\n",
    "    j+=1\n",
    "    L[j],L[pi]=L[pi],L[j]\n",
    "    pi=j\n",
    "    return pi\n",
    "\n",
    "def  Quick_sort(L,low,high):\n",
    "    if low<high:\n",
    "        pi=divide(L,low,high)\n",
    "        print(pi,low,high)\n",
    "        Quick_sort(L,low,pi-1)\n",
    "        Quick_sort(L,pi+1,high)\n",
    "    return\n",
    "if __name__==\"__main__\":\n",
    "    L=list(map(int,input().split()))\n",
    "    low=0\n",
    "    high=len(L)-1\n",
    "    print(low,high)\n",
    "    Quick_sort(L,low,high)\n",
    "    print(\"sorted array=\",L)"
   ]
  },
  {
   "cell_type": "code",
   "execution_count": 54,
   "id": "0f1bac8e-c7b5-479e-b249-26f842e9f7c5",
   "metadata": {},
   "outputs": [
    {
     "name": "stdin",
     "output_type": "stream",
     "text": [
      " 4 7 8 3 2 9 1 5 6\n"
     ]
    },
    {
     "name": "stdout",
     "output_type": "stream",
     "text": [
      "[1, 2, 3, 4, 5, 6, 7, 8, 9]\n"
     ]
    }
   ],
   "source": [
    "#Merge Sort\n",
    "def merge_sort(arr):\n",
    "    if len(arr)>1:\n",
    "        left_arr=arr[:len(arr)//2]\n",
    "        right_arr=arr[len(arr)//2:]\n",
    "\n",
    "    # while len(left_arr)>1:\n",
    "        merge_sort(left_arr)\n",
    "        merge_sort(right_arr)\n",
    "    \n",
    "        i=0\n",
    "        j=0\n",
    "        t=0\n",
    "        \n",
    "        while i<len(left_arr) and j<len(right_arr):\n",
    "            if left_arr[i]<right_arr[j]:\n",
    "                arr[t]=left_arr[i]\n",
    "                \n",
    "                i+=1\n",
    "            else:\n",
    "                arr[t]=right_arr[j]\n",
    "                \n",
    "                j+=1\n",
    "            t+=1    \n",
    "        while i<len(left_arr):\n",
    "            arr[t]=(left_arr[i])\n",
    "            t+=1\n",
    "            i+=1\n",
    "        while j<len(right_arr):\n",
    "            arr[t]=(right_arr[j])\n",
    "            t+=1\n",
    "            j+=1      \n",
    "    \n",
    "arr=list(map(int,input().split()))\n",
    "merge_sort(arr)\n",
    "print(arr)"
   ]
  }
 ],
 "metadata": {
  "kernelspec": {
   "display_name": "Python 3 (ipykernel)",
   "language": "python",
   "name": "python3"
  },
  "language_info": {
   "codemirror_mode": {
    "name": "ipython",
    "version": 3
   },
   "file_extension": ".py",
   "mimetype": "text/x-python",
   "name": "python",
   "nbconvert_exporter": "python",
   "pygments_lexer": "ipython3",
   "version": "3.12.4"
  }
 },
 "nbformat": 4,
 "nbformat_minor": 5
}
