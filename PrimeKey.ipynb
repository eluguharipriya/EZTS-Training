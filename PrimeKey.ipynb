{
 "cells": [
  {
   "cell_type": "code",
   "execution_count": 1,
   "id": "cb57818c-f482-4a84-8b75-b97a4a6f3c6c",
   "metadata": {},
   "outputs": [
    {
     "name": "stdin",
     "output_type": "stream",
     "text": [
      " 8\n"
     ]
    },
    {
     "name": "stdout",
     "output_type": "stream",
     "text": [
      "(11, 19, False)\n"
     ]
    }
   ],
   "source": [
    "#Prime_Key\n",
    "def check_prime(m):\n",
    "    flag=0\n",
    "    if m<0:\n",
    "        flag=1\n",
    "    elif m==0:\n",
    "        flag=0\n",
    "    else:\n",
    "        for i in range(2,(m//2)+1):\n",
    "            if m%i==0:\n",
    "                flag=1\n",
    "                break\n",
    "    if flag==0:\n",
    "        return 1\n",
    "    else:\n",
    "        return 0\n",
    "#Finding smallest prime number larger than a given integer N        \n",
    "result=[]        \n",
    "N=int(input())     \n",
    "flag=0\n",
    "k=N+1\n",
    "while flag<1:\n",
    "    flag=check_prime(k)\n",
    "    if flag==1:\n",
    "        result.append(k)\n",
    "    else:\n",
    "        k=k+1\n",
    "#calculating the sum of all prime numbers between N and smallest prime number larger than N       \n",
    "sum=0\n",
    "for i in range(N+1,k):\n",
    "    sum+=i\n",
    "result.append(sum)\n",
    "\n",
    "p1=k\n",
    "flag=0\n",
    "k=p1+1\n",
    "while flag<1:\n",
    "    flag=check_prime(k)\n",
    "    if flag==1:\n",
    "        p2=k\n",
    "    else:\n",
    "        k=k+1  \n",
    "#determining if the product of the smallest prime number larger than N and next immediate prime number is also a prime number        \n",
    "p3=p1*p2\n",
    "flag=check_prime(p3)\n",
    "if flag==0:\n",
    "    result.append(False)\n",
    "else:\n",
    "    result.append(True)\n",
    "\n",
    "Prime_key=tuple(result) #output is like if u given an input as 7 then next prime number.will be 11 and the in between 7 and 11 their is 8+9+10=27,\n",
    "#their should be 27 and next to 11 prime number is 13.Then multipy the 11*13 then the output should not be prime number then it is false\n",
    "print(Prime_key)\n",
    "    "
   ]
  },
  {
   "cell_type": "code",
   "execution_count": 2,
   "id": "0da20d28-af3d-4c1b-8d13-cb916d98d6b9",
   "metadata": {},
   "outputs": [
    {
     "name": "stdout",
     "output_type": "stream",
     "text": [
      "{'Alex': ['I'], 'Sam': ['A'], 'Jamie': ['A', 'I']}\n"
     ]
    }
   ],
   "source": [
    "#Occurance of vowels in a sentence\n",
    "def count_vowel(S):\n",
    "    dic={'A':0,'E':0,'I':0,'O':0,'U':0}\n",
    "    for i in S:\n",
    "        if i=='a' or i=='A':\n",
    "            dic['A']+=1\n",
    "        if i=='e' or i=='E':\n",
    "            dic['E']+=1\n",
    "        if i=='i' or i=='I':\n",
    "            dic['I']+=1\n",
    "        if i=='o' or i=='O':\n",
    "            dic['O']+=1\n",
    "        if i=='u' or i=='U':   \n",
    "            dic['U']+=1\n",
    "           \n",
    "    x=max(dic.values())\n",
    "    result=[]\n",
    "    for i,j in dic.items():\n",
    "        if j==x:\n",
    "            result.append(i)\n",
    "    return(result)        \n",
    "i_p=[\n",
    "    [\"Alex\",\"I enjoy hiking in the mountains.\"],\n",
    "    [\"Sam\",\"A lovely sunny day at the beach.\"],\n",
    "    [\"Jamie\",\"Reading a book is my favorite pastime.\"]\n",
    "]\n",
    "o_p={}\n",
    "for i in i_p:\n",
    "    o_p[i[0]]=count_vowel(i[1])\n",
    "print(o_p)\n"
   ]
  },
  {
   "cell_type": "code",
   "execution_count": null,
   "id": "e58997a3-c550-4182-beef-e37cdd97ec23",
   "metadata": {},
   "outputs": [],
   "source": []
  }
 ],
 "metadata": {
  "kernelspec": {
   "display_name": "Python 3 (ipykernel)",
   "language": "python",
   "name": "python3"
  },
  "language_info": {
   "codemirror_mode": {
    "name": "ipython",
    "version": 3
   },
   "file_extension": ".py",
   "mimetype": "text/x-python",
   "name": "python",
   "nbconvert_exporter": "python",
   "pygments_lexer": "ipython3",
   "version": "3.12.4"
  }
 },
 "nbformat": 4,
 "nbformat_minor": 5
}
