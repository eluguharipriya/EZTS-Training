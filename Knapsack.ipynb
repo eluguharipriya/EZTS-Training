{
 "cells": [
  {
   "cell_type": "code",
   "execution_count": 1,
   "id": "f01824ce-d5a5-467c-90d4-d7222abfe106",
   "metadata": {},
   "outputs": [
    {
     "name": "stdin",
     "output_type": "stream",
     "text": [
      " 20 10 6 9 18 12 16 30 15\n",
      "  4 5 6 3 2 5 4 6 6\n",
      " 30\n"
     ]
    },
    {
     "name": "stdout",
     "output_type": "stream",
     "text": [
      "120.0\n"
     ]
    }
   ],
   "source": [
    "#Knapsack\n",
    "price=list(map(float,input().split()))\n",
    "weight=list(map(float,input().split()))\n",
    "profit=0\n",
    "ratio_list=[]\n",
    "max_weight=int(input())\n",
    "for i in range(len(price)):\n",
    "    ratio_list.append(price[i]/weight[i])\n",
    "\n",
    "\n",
    "while max_weight>0:\n",
    "    index=ratio_list.index(max(ratio_list))\n",
    "    max_weight-=weight[index]\n",
    "    profit+=price[index]\n",
    "    ratio_list.pop(index)\n",
    "    price.pop(index)\n",
    "    weight.pop(index)\n",
    "    \n",
    "print(profit)    \n",
    "    "
   ]
  },
  {
   "cell_type": "code",
   "execution_count": null,
   "id": "c389f8a0-30c3-4356-a632-29c1cb4dec31",
   "metadata": {},
   "outputs": [],
   "source": []
  }
 ],
 "metadata": {
  "kernelspec": {
   "display_name": "Python 3 (ipykernel)",
   "language": "python",
   "name": "python3"
  },
  "language_info": {
   "codemirror_mode": {
    "name": "ipython",
    "version": 3
   },
   "file_extension": ".py",
   "mimetype": "text/x-python",
   "name": "python",
   "nbconvert_exporter": "python",
   "pygments_lexer": "ipython3",
   "version": "3.12.4"
  }
 },
 "nbformat": 4,
 "nbformat_minor": 5
}
