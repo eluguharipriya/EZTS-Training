{
 "cells": [
  {
   "cell_type": "code",
   "execution_count": 14,
   "id": "2896e973-0782-4092-bc56-8fc9e267bae0",
   "metadata": {},
   "outputs": [
    {
     "name": "stdout",
     "output_type": "stream",
     "text": [
      "[10, 20, 30, 40, 50]\n",
      "50\n",
      "[10, 20, 30, 40]\n",
      "40\n",
      "3\n"
     ]
    }
   ],
   "source": [
    "#Stack concept\n",
    "class Stack():\n",
    "    def __init__(self):\n",
    "        self.items=[]\n",
    "    def push(self,data):\n",
    "        self.items.append(data)\n",
    "    def pop(self):\n",
    "        return self.items.pop()\n",
    "    def size(self):\n",
    "        return len(self.items)\n",
    "s=Stack()\n",
    "s.push(10)\n",
    "s.push(20)\n",
    "s.push(30)\n",
    "s.push(40)\n",
    "s.push(50)\n",
    "print(s.items)\n",
    "print(s.pop())\n",
    "print(s.items)\n",
    "print(s.pop())\n",
    "print(s.size())\n"
   ]
  },
  {
   "cell_type": "code",
   "execution_count": 6,
   "id": "5937f355-5ed6-47df-8655-51c0ad67d50c",
   "metadata": {},
   "outputs": [
    {
     "name": "stdout",
     "output_type": "stream",
     "text": [
      "Valid\n"
     ]
    }
   ],
   "source": [
    "#Parenthesis Checker\n",
    "# A student is given a task to create some mathematical expression for BODMAS. But due to some other work \n",
    "# he forgot to do that but in the night he clicked that he have to create some expression for BODMAS due \n",
    "# to sleepy mood he did some mistake while putting the brackets. Your job is to check whether expression \n",
    "# given by the boy is valid or not.\n",
    "\n",
    "# sample Input:\n",
    "# [3+7{52/11(3+5)}]  valid expression as all the brackets are properly open and close.\n",
    "\n",
    "# [4-6]{235(9+6)]   invalid expression as some brackets are not proper.\n",
    "\n",
    "class stack():\n",
    "    def __init__(self):\n",
    "        self.items=[]\n",
    "    def push(self,data):\n",
    "        self.items.append(data)\n",
    "    def pop(self):\n",
    "        return self.items.pop()\n",
    "    def size(self):\n",
    "        return len(self.items)\n",
    "e=\"[3+7{52/11(3+5)}]\"\n",
    "s=stack()\n",
    "ob=\"[{(\"\n",
    "cb=\")}]\"\n",
    "flag=0\n",
    "for i in e:\n",
    "    if i in ob:\n",
    "        s.push(i)\n",
    "    if i in cb:\n",
    "        x=s.pop()\n",
    "        if x==\"(\" and i == \")\":\n",
    "            pass\n",
    "        elif x==\"{\" and i==\"}\":\n",
    "            pass\n",
    "        elif x==\"[\" and i==\"]\":\n",
    "            pass\n",
    "        else:\n",
    "            flag=1\n",
    "            break\n",
    "if flag==0 and s.size()==0:\n",
    "    print(\"Valid\")\n",
    "else:\n",
    "    print(\"Invalid\")\n",
    "            "
   ]
  },
  {
   "cell_type": "code",
   "execution_count": 7,
   "id": "f5712c5b-5a8e-4d61-a0d1-6609e71524ba",
   "metadata": {},
   "outputs": [
    {
     "name": "stdin",
     "output_type": "stream",
     "text": [
      " [3+7{52/11(3+5)}]\n"
     ]
    },
    {
     "name": "stdout",
     "output_type": "stream",
     "text": [
      "[{()}]\n",
      "0\n",
      "valid\n"
     ]
    }
   ],
   "source": [
    "#Type2\n",
    "def balnce(n):\n",
    "    l=''\n",
    "    b=\"[](){}\"\n",
    "    for i in n:\n",
    "        if i in b:\n",
    "             l+=i\n",
    "    print(l)\n",
    "    if l[0]==\")\" or l[0]==']' or l[0]=='}':\n",
    "        return \"invalid\"\n",
    "    else:\n",
    "        while '()' in  l or  '[]' in l or '{}' in l:\n",
    "                l=l.replace('()',\"\").replace('[]',\"\").replace('{}',\"\")\n",
    "        print(len(l))\n",
    "        if len(l)==0:\n",
    "            return \"valid\"\n",
    "        else:\n",
    "            return \"invalid\"\n",
    "n=input()\n",
    "print(balnce(n))"
   ]
  },
  {
   "cell_type": "code",
   "execution_count": 8,
   "id": "5a14ea0f-63bc-49f4-9141-113159224855",
   "metadata": {},
   "outputs": [
    {
     "name": "stdout",
     "output_type": "stream",
     "text": [
      "[5, 14, 14, -1, 7, 7, 9, -1, 6, 9, -1, 5, 5, -1, -1]\n"
     ]
    }
   ],
   "source": [
    "# In a factory many workers are working there each worker is assigned with a integer number help them to \n",
    "# find their supervisor. The project manager having an array that cosists if a integer numbers help the\n",
    "# project manager to find their supervisors. Supervisor will be assigned as the first largest integer\n",
    "# find on the right side of the array if not found return -1.\n",
    "# i/p:[3,5,2,14,5,3,7,9,4,6,9,4,2,5,3]\n",
    "# o/p:[5,14,14,-1,7,7,9,-1,9,9,-1,5,5,-1,-1]\n",
    "# if empty   ->  -1\n",
    "# if smaller -> remove, if stack is empty print -1, if bigger ele present than curr ele return bigger ele which is on top of stack.\n",
    "# if bigger  -> return result and add current element to the stack\n",
    "# above three conditions are possible only if stack! empty or top > element\n",
    "# -> add current element to the stack\n",
    "# time complexity: O(n)\n",
    "class Stack:\n",
    "    def __init__(self):\n",
    "        self.items=[]\n",
    "    def push(self,data):\n",
    "        self.items.append(data)\n",
    "    def pop(self):\n",
    "        self.items.pop()\n",
    "    def size(self):\n",
    "        return len(self.items)\n",
    "    def top(self):\n",
    "        return self.items[-1]\n",
    "l=[3,5,2,14,5,3,7,9,4,6,9,4,2,5,3]\n",
    "o=[0]*len(l)\n",
    "s=Stack()\n",
    "for i in range(len(l)-1,-1,-1):\n",
    "    if s.size()!=0:\n",
    "        while s.size() !=0 and s.top()<=l[i]:\n",
    "            if s.top()<=l[i]:\n",
    "                s.pop()\n",
    "    if s.size()==0:\n",
    "        o[i]=-1\n",
    "    else:\n",
    "        o[i]=s.top()\n",
    "        \n",
    "    s.push(l[i])\n",
    "print(o)        \n",
    "        \n",
    "\n"
   ]
  },
  {
   "cell_type": "code",
   "execution_count": 9,
   "id": "c0e159f4-365d-49c3-8e54-6b89f231cf4e",
   "metadata": {},
   "outputs": [
    {
     "name": "stdout",
     "output_type": "stream",
     "text": [
      "[10, 20, 30, 40, 50]\n",
      "10\n",
      "[20, 30, 40, 50]\n",
      "20\n",
      "3\n"
     ]
    }
   ],
   "source": [
    "#QUEUE\n",
    "class Queue:\n",
    "    def __init__(self):\n",
    "        self.item=[]\n",
    "    def push(self,data):\n",
    "        self.item.append(data)\n",
    "    def pop(self):\n",
    "        return self.item.pop(0)\n",
    "    def size(self):\n",
    "        return len(self.item)\n",
    "q=Queue()\n",
    "q.push(10)\n",
    "q.push(20)\n",
    "q.push(30)\n",
    "q.push(40)\n",
    "q.push(50)\n",
    "print(q.item)\n",
    "print(q.pop())\n",
    "print(q.item)\n",
    "print(q.pop())\n",
    "print(q.size())\n",
    "        "
   ]
  }
 ],
 "metadata": {
  "kernelspec": {
   "display_name": "Python 3 (ipykernel)",
   "language": "python",
   "name": "python3"
  },
  "language_info": {
   "codemirror_mode": {
    "name": "ipython",
    "version": 3
   },
   "file_extension": ".py",
   "mimetype": "text/x-python",
   "name": "python",
   "nbconvert_exporter": "python",
   "pygments_lexer": "ipython3",
   "version": "3.12.4"
  }
 },
 "nbformat": 4,
 "nbformat_minor": 5
}
