{
 "cells": [
  {
   "cell_type": "code",
   "execution_count": 1,
   "id": "d7f87491-7ee0-4ad4-8614-f6acb34e0b8e",
   "metadata": {},
   "outputs": [
    {
     "name": "stdout",
     "output_type": "stream",
     "text": [
      "[0, 6, 10, 5, 8, 11, 8, 2, 16, 10]\n"
     ]
    }
   ],
   "source": [
    "#Dijkstra Algorithm\n",
    "\n",
    "G=[#1 2   3   4   5   6   7   8   9  10\n",
    "      [0, 7, False, False, False, False, False,  2, False, False],#1\n",
    "      [7, 0,  4,  1, False,  5, False, False, False, False],#2\n",
    "      [False, 4, 0, False, False, False, False,  8, False, False],#3\n",
    "      [False, 1, False, 0,  6,  8,  3,  3, False, False],#4\n",
    "      [False, False, False, 6,  0,  False, False, 6, 8, False],#5\n",
    "      [False, 5, False, 8,  False,  0, False, False, False,False],#6\n",
    "      [False, False, False,  3, False, False, 0, False, 9,  2],#7\n",
    "      [2, False,  8,  3, 6, False, False, 0, False,  False],#8\n",
    "      [False, False, False, False, 8, False, 9, False, 0,  False],#9\n",
    "      [False, False, False, False, False, False, 2, False, False, 0] #10\n",
    "      ]\n",
    "\n",
    "temp={}\n",
    "for i in range(len(G)):\n",
    "    temp[i]=float(\"inf\")\n",
    "\n",
    "Dist=[float(\"inf\")]*len(G)\n",
    "\n",
    "temp[0]=0 #consider the start index as 0\n",
    "\n",
    "while len(temp)>0:\n",
    "    min_value=min(temp.values())\n",
    "    min_key=min(temp,key=temp.get)\n",
    "    temp.pop(min_key)\n",
    "    Dist[min_key]=min_value\n",
    "    \n",
    "    for j in range(len(G[min_key])):\n",
    "        if G[min_key][j]!=False and G[min_key][j]!=0:\n",
    "            new_dist=min_value+G[min_key][j]\n",
    "            if j in temp.keys() and temp[j]>new_dist:\n",
    "                temp[j]=new_dist\n",
    "\n",
    "print(Dist)\n"
   ]
  },
  {
   "cell_type": "code",
   "execution_count": 7,
   "id": "2e219a84-6a73-4cd0-9935-ea04b00d88ff",
   "metadata": {},
   "outputs": [
    {
     "name": "stdout",
     "output_type": "stream",
     "text": [
      "Minimum cost=  19\n",
      "(3, (0, 1, 2, 3))\n",
      "(4, (0, 1, 2, 4))\n",
      "(2, (0, 1, 2))\n",
      "(2, (0, 1, 3, 2))\n",
      "(4, (0, 1, 3, 4))\n",
      "(3, (0, 1, 3))\n",
      "(2, (0, 1, 4, 2))\n",
      "(3, (0, 1, 4, 3))\n",
      "(4, (0, 1, 4))\n",
      "(1, (0, 1))\n",
      "(3, (0, 2, 1, 3))\n",
      "(4, (0, 2, 1, 4))\n",
      "(1, (0, 2, 1))\n",
      "(1, (0, 2, 3, 1))\n",
      "(4, (0, 2, 3, 4))\n",
      "(3, (0, 2, 3))\n",
      "(1, (0, 2, 4, 1))\n",
      "(3, (0, 2, 4, 3))\n",
      "(4, (0, 2, 4))\n",
      "(2, (0, 2))\n",
      "(2, (0, 3, 1, 2))\n",
      "(4, (0, 3, 1, 4))\n",
      "(1, (0, 3, 1))\n",
      "(1, (0, 3, 2, 1))\n",
      "(4, (0, 3, 2, 4))\n",
      "(2, (0, 3, 2))\n",
      "(1, (0, 3, 4, 1))\n",
      "(2, (0, 3, 4, 2))\n",
      "(4, (0, 3, 4))\n",
      "(3, (0, 3))\n",
      "(2, (0, 4, 1, 2))\n",
      "(3, (0, 4, 1, 3))\n",
      "(1, (0, 4, 1))\n",
      "(1, (0, 4, 2, 1))\n",
      "(3, (0, 4, 2, 3))\n",
      "(2, (0, 4, 2))\n",
      "(1, (0, 4, 3, 1))\n",
      "(2, (0, 4, 3, 2))\n",
      "(3, (0, 4, 3))\n",
      "(4, (0, 4))\n",
      "(0, (0,))\n"
     ]
    }
   ],
   "source": [
    "#Travelling Salesman by Dynamic Programming (Memoization)\n",
    "import sys\n",
    "def cost(curr,visited,G,DP):\n",
    "    n=len(G)\n",
    "    if len(visited)==n:\n",
    "        return G[curr][0]\n",
    "\n",
    "    visit=tuple(visited)\n",
    "    if (curr,visit) in DP:\n",
    "        return DP[(curr,visit)]\n",
    "        \n",
    "    min_cost=sys.maxsize\n",
    "    for i in range(n):\n",
    "        if i not in visited:\n",
    "            new_visit=visited+[i]\n",
    "            new_cost=G[curr][i]+cost(i,new_visit,G,DP)\n",
    "            min_cost=min(min_cost,new_cost)\n",
    "\n",
    "    DP[(curr,visit)]=min_cost\n",
    "    return min_cost\n",
    "    \n",
    "\n",
    "G=[\n",
    "    [0,4,7,5,5],\n",
    "    [4,0,2,3,8],\n",
    "    [7,2,0,3,4],\n",
    "    [5,3,3,0,6],\n",
    "    [5,8,4,6,0]\n",
    "  ]  \n",
    "\n",
    "n=len(G)\n",
    "DP={}\n",
    "print(\"Minimum cost= \",cost(0,[0],G,DP))\n",
    "for i in DP:\n",
    "    print(i)\n"
   ]
  },
  {
   "cell_type": "code",
   "execution_count": null,
   "id": "7569bcdc-a39c-4fb7-bf6f-d48f587a9610",
   "metadata": {},
   "outputs": [],
   "source": []
  }
 ],
 "metadata": {
  "kernelspec": {
   "display_name": "Python 3 (ipykernel)",
   "language": "python",
   "name": "python3"
  },
  "language_info": {
   "codemirror_mode": {
    "name": "ipython",
    "version": 3
   },
   "file_extension": ".py",
   "mimetype": "text/x-python",
   "name": "python",
   "nbconvert_exporter": "python",
   "pygments_lexer": "ipython3",
   "version": "3.12.4"
  }
 },
 "nbformat": 4,
 "nbformat_minor": 5
}
