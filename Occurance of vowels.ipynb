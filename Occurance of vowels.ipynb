{
 "cells": [
  {
   "cell_type": "code",
   "execution_count": 1,
   "id": "be99f3f2-01da-4b74-8601-40f510d5342e",
   "metadata": {},
   "outputs": [
    {
     "name": "stdout",
     "output_type": "stream",
     "text": [
      "{'Alex': ['I'], 'Sam': ['A'], 'Jamie': ['A', 'I']}\n"
     ]
    }
   ],
   "source": [
    "#Occurance of vowels in a sentence\n",
    "def count_vowel(S):\n",
    "    dic={'A':0,'E':0,'I':0,'O':0,'U':0}\n",
    "    for i in S:\n",
    "        if i=='a' or i=='A':\n",
    "            dic['A']+=1\n",
    "        if i=='e' or i=='E':\n",
    "            dic['E']+=1\n",
    "        if i=='i' or i=='I':\n",
    "            dic['I']+=1\n",
    "        if i=='o' or i=='O':\n",
    "            dic['O']+=1\n",
    "        if i=='u' or i=='U':   \n",
    "            dic['U']+=1\n",
    "           \n",
    "    x=max(dic.values())\n",
    "    result=[]\n",
    "    for i,j in dic.items():\n",
    "        if j==x:\n",
    "            result.append(i)\n",
    "    return(result)        \n",
    "i_p=[\n",
    "    [\"Alex\",\"I enjoy hiking in the mountains.\"],\n",
    "    [\"Sam\",\"A lovely sunny day at the beach.\"],\n",
    "    [\"Jamie\",\"Reading a book is my favorite pastime.\"]\n",
    "]\n",
    "o_p={}\n",
    "for i in i_p:\n",
    "    o_p[i[0]]=count_vowel(i[1])\n",
    "print(o_p)\n"
   ]
  }
 ],
 "metadata": {
  "kernelspec": {
   "display_name": "Python 3 (ipykernel)",
   "language": "python",
   "name": "python3"
  },
  "language_info": {
   "codemirror_mode": {
    "name": "ipython",
    "version": 3
   },
   "file_extension": ".py",
   "mimetype": "text/x-python",
   "name": "python",
   "nbconvert_exporter": "python",
   "pygments_lexer": "ipython3",
   "version": "3.12.4"
  }
 },
 "nbformat": 4,
 "nbformat_minor": 5
}
