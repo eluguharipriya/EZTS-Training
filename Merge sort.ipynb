{
 "cells": [
  {
   "cell_type": "code",
   "execution_count": 1,
   "id": "b1889a3f-f5c1-4829-b258-bacaf988557a",
   "metadata": {},
   "outputs": [
    {
     "name": "stdin",
     "output_type": "stream",
     "text": [
      " 4 7 8 3 2 9 1 5\n"
     ]
    },
    {
     "name": "stdout",
     "output_type": "stream",
     "text": [
      "Sorted Array =  [1, 2, 3, 4, 5, 7, 8, 9]\n"
     ]
    }
   ],
   "source": [
    "#merge Sort\n",
    "def merge(left,right):\n",
    "    i=j=0\n",
    "    temp=[]\n",
    "\n",
    "    while i<len(left) and j<len(right):\n",
    "        if left[i]<right[j]:\n",
    "            temp.append(left[i])\n",
    "            i+=1\n",
    "        else:\n",
    "            temp.append(right[j])\n",
    "            j+=1\n",
    "            \n",
    "    while i<len(left):\n",
    "        temp.append(left[i])\n",
    "        i+=1\n",
    "        \n",
    "    while j<len(right):\n",
    "        temp.append(right[j])\n",
    "        j+=1\n",
    "\n",
    "    return temp\n",
    "\n",
    "def mergesort(L):\n",
    "    if len(L) <= 1:\n",
    "        return L\n",
    "        \n",
    "    mid = len(L)//2\n",
    "    left=L[:mid] \n",
    "    right=L[mid:]\n",
    "    \n",
    "    left_sorted = mergesort(left)\n",
    "    right_sorted = mergesort(right)\n",
    "    \n",
    "    return merge(left_sorted,right_sorted)\n",
    "\n",
    "\n",
    "if __name__==\"__main__\":\n",
    "    L=list(map(int,input().split())) # 4 7 8 3 2 9 1 5\n",
    "    sorted=mergesort(L)\n",
    "\n",
    "    print(\"Sorted Array = \",sorted)"
   ]
  }
 ],
 "metadata": {
  "kernelspec": {
   "display_name": "Python 3 (ipykernel)",
   "language": "python",
   "name": "python3"
  },
  "language_info": {
   "codemirror_mode": {
    "name": "ipython",
    "version": 3
   },
   "file_extension": ".py",
   "mimetype": "text/x-python",
   "name": "python",
   "nbconvert_exporter": "python",
   "pygments_lexer": "ipython3",
   "version": "3.12.4"
  }
 },
 "nbformat": 4,
 "nbformat_minor": 5
}
