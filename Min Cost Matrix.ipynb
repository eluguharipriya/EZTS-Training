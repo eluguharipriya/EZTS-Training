{
 "cells": [
  {
   "cell_type": "code",
   "execution_count": 13,
   "id": "d2ed3b41-5591-4207-b26f-cb11dfc1e203",
   "metadata": {},
   "outputs": [
    {
     "name": "stdout",
     "output_type": "stream",
     "text": [
      "1\n",
      "2\n",
      "1\n",
      "4\n",
      "2\n",
      "3\n",
      "1\n",
      "14\n"
     ]
    }
   ],
   "source": [
    "# find the minimum cost using greedy method , only move right and down\n",
    "\n",
    "path = [\n",
    "  [1,2,2,3],\n",
    "  [3,1,4,2],\n",
    "  [1,5,3,3],\n",
    "  [1,2,4,1]\n",
    "]\n",
    "n = len(path)-1\n",
    "m = len(path[0])-1\n",
    "start = path[0][0]\n",
    "# end = path[n-1][m-1]\n",
    "i=0\n",
    "j=0\n",
    "print(start)\n",
    "sum=start\n",
    "while i<n and j <m : \n",
    "  if path[i][j+1]< path[i+1][j]:\n",
    "    j+=1\n",
    "    print(path[i][j])\n",
    "    sum+=path[i][j]\n",
    "  else:\n",
    "    i+=1\n",
    "    print(path[i][j])\n",
    "    sum+=path[i][j]\n",
    "\n",
    "if i==n:\n",
    "  while j<m:\n",
    "    j+=1\n",
    "    print(path[i][j])\n",
    "    sum+=path[i][j]\n",
    "elif j==m:\n",
    "  while i<n:\n",
    "    i+=1\n",
    "    print(path[i][j])\n",
    "    sum+=path[i][j]\n",
    "\n",
    "print(sum)"
   ]
  },
  {
   "cell_type": "code",
   "execution_count": 14,
   "id": "0744219a-64cf-46ad-b1a4-c38e8795c446",
   "metadata": {},
   "outputs": [
    {
     "name": "stdout",
     "output_type": "stream",
     "text": [
      "[1, 3, 5, 8]\n",
      "[4, 4, 8, 10]\n",
      "[5, 9, 11, 13]\n",
      "[6, 8, 9, 10]\n"
     ]
    }
   ],
   "source": [
    "#Tabulation(DP)\n",
    "mapp=[\n",
    "    [1,2,2,3],\n",
    "    [3,1,4,2],\n",
    "    [1,5,3,3],\n",
    "    [1,2,1,1]\n",
    "]\n",
    "dp=[[False]*4,[False]*4,[False]*4,[False]*4]\n",
    "dp[0][0]=mapp[0][0]\n",
    "\n",
    "for i in range(1,len(mapp[0])):\n",
    "    dp[0][i]=dp[0][i-1]+mapp[0][i]\n",
    "for j in range(1,len(mapp)):\n",
    "    dp[j][0]=dp[j-1][0]+mapp[j][0]\n",
    "for i in range(1,len(mapp)):\n",
    "    for j in range(1,len(mapp)):\n",
    "        if dp[i-1][j]<dp[i][j-1]:\n",
    "            dp[i][j]=dp[i-1][j]+mapp[i][j]\n",
    "        else:\n",
    "            dp[i][j]=dp[i][j-1]+mapp[i][j]\n",
    "\n",
    "for i in dp:\n",
    "    print(i)"
   ]
  }
 ],
 "metadata": {
  "kernelspec": {
   "display_name": "Python 3 (ipykernel)",
   "language": "python",
   "name": "python3"
  },
  "language_info": {
   "codemirror_mode": {
    "name": "ipython",
    "version": 3
   },
   "file_extension": ".py",
   "mimetype": "text/x-python",
   "name": "python",
   "nbconvert_exporter": "python",
   "pygments_lexer": "ipython3",
   "version": "3.12.4"
  }
 },
 "nbformat": 4,
 "nbformat_minor": 5
}
