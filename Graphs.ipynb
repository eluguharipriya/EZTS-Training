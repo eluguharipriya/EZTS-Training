{
 "cells": [
  {
   "cell_type": "code",
   "execution_count": 14,
   "id": "4dd323c1-1f89-4287-b659-3cea9f32a5da",
   "metadata": {},
   "outputs": [
    {
     "name": "stdout",
     "output_type": "stream",
     "text": [
      "4\n",
      "3\n",
      "6\n",
      "8\n",
      "13\n",
      "12\n",
      "9\n",
      "7\n",
      "11\n",
      "10\n",
      "5\n",
      "2\n",
      "1\n"
     ]
    }
   ],
   "source": [
    "#DFS\n",
    "def dfs(g,v,s,e):\n",
    "    if v[e]=='False':\n",
    "        s.append(e)\n",
    "        v[e]='True'\n",
    "    else:\n",
    "        return \n",
    "    for i in g[e]:\n",
    "        dfs(g,v,s,i[1])\n",
    "    print(s.pop())  \n",
    "\n",
    "if __name__==\"__main__\":\n",
    "    v={1:'False',2:'False',3:'False',4:'False',5:'False',6:'False',7:'False',8:'False',9:'False',10:'False',11:'False',12:'False',13:'False'}\n",
    "    s=[]\n",
    "    g={1:[(1,2,0),(1,3,0)],\n",
    "       2:[(2,1,0),(2,5,0)],\n",
    "       3:[(3,1,0),(3,4,0),(3,6,0)],\n",
    "       4:[(4,3,0)],\n",
    "       5:[(5,2,0),(5,7,0),(5,10,0),(5,13,0)],\n",
    "       6:[(6,3,0),(6,7,0)],\n",
    "       7:[(7,5,0),(7,6,0),(7,8,0),(7,9,0)],\n",
    "       8:[(8,7,0)],\n",
    "       9:[(9,7,0),(9,12,0)],\n",
    "       10:[(10,5,0),(10,11,0)],\n",
    "       11:[(11,10,0)],\n",
    "       12:[(12,9,0),(12,13,0)],\n",
    "       13:[(13,12,0),(13,5,0)]\n",
    "       }\n",
    "dfs(g,v,s,1)"
   ]
  },
  {
   "cell_type": "code",
   "execution_count": 19,
   "id": "4a5ad08c-4a68-4052-8033-064d1754fe8c",
   "metadata": {},
   "outputs": [
    {
     "name": "stdout",
     "output_type": "stream",
     "text": [
      "1\n",
      "2\n",
      "3\n",
      "5\n",
      "4\n",
      "6\n",
      "7\n",
      "10\n",
      "13\n",
      "8\n",
      "9\n",
      "11\n",
      "12\n"
     ]
    }
   ],
   "source": [
    "#BFS\n",
    "def bfs(g,e):\n",
    "    q=[e]\n",
    "    v={}\n",
    "    for i in g.keys():\n",
    "        v[i]=False\n",
    "    v[e]=True\n",
    "    while len(q)!=0:\n",
    "        curr=q.pop(0)\n",
    "        print(curr)\n",
    "        for i in g[curr]:\n",
    "            if v[i[1]]==False:\n",
    "                q.append(i[1])\n",
    "                v[i[1]]=True\n",
    "\n",
    "if __name__==\"__main__\":\n",
    "    v={1:'False',2:'False',3:'False',4:'False',5:'False',6:'False',7:'False',8:'False',9:'False',10:'False',11:'False',12:'False',13:'False'}\n",
    "    s=[]\n",
    "    g={1:[(1,2,0),(1,3,0)],\n",
    "       2:[(2,1,0),(2,5,0)],\n",
    "       3:[(3,1,0),(3,4,0),(3,6,0)],\n",
    "       4:[(4,3,0)],\n",
    "       5:[(5,2,0),(5,7,0),(5,10,0),(5,13,0)],\n",
    "       6:[(6,3,0),(6,7,0)],\n",
    "       7:[(7,5,0),(7,6,0),(7,8,0),(7,9,0)],\n",
    "       8:[(8,7,0)],\n",
    "       9:[(9,7,0),(9,12,0)],\n",
    "       10:[(10,5,0),(10,11,0)],\n",
    "       11:[(11,10,0)],\n",
    "       12:[(12,9,0),(12,13,0)],\n",
    "       13:[(13,12,0),(13,5,0)]\n",
    "       }\n",
    "bfs(g,1)"
   ]
  },
  {
   "cell_type": "code",
   "execution_count": 24,
   "id": "7024a51b-dd29-4cf3-a057-21bae5bd6227",
   "metadata": {},
   "outputs": [
    {
     "name": "stdout",
     "output_type": "stream",
     "text": [
      "1\n",
      "2\n",
      "3\n",
      "4\n",
      "5\n",
      "6\n",
      "7\n",
      "8\n",
      "9\n"
     ]
    }
   ],
   "source": [
    "#Binary Search Tree(BST)\n",
    "class node:\n",
    "    def __init__(self,data):\n",
    "        self.value=data\n",
    "        self.left=None\n",
    "        self.right=None\n",
    "        \n",
    "def inorder(root):\n",
    "    if root==None:\n",
    "        return \n",
    "    inorder(root.left)\n",
    "    print(root.value)\n",
    "    inorder(root.right)\n",
    "        \n",
    "def insertBST(value,root):\n",
    "    if root==None:\n",
    "        root=node(value)\n",
    "    if value<root.value:\n",
    "        root.left=insertBST(value,root.left)\n",
    "    if value>root.value:\n",
    "        root.right=insertBST(value,root.right)\n",
    "    return root\n",
    "        \n",
    "lst=[4,6,7,3,8,2,5,9,1]\n",
    "root=node(lst.pop(0))\n",
    "for i in lst:\n",
    "    insertBST(i,root)\n",
    "inorder(root)"
   ]
  }
 ],
 "metadata": {
  "kernelspec": {
   "display_name": "Python 3 (ipykernel)",
   "language": "python",
   "name": "python3"
  },
  "language_info": {
   "codemirror_mode": {
    "name": "ipython",
    "version": 3
   },
   "file_extension": ".py",
   "mimetype": "text/x-python",
   "name": "python",
   "nbconvert_exporter": "python",
   "pygments_lexer": "ipython3",
   "version": "3.12.4"
  }
 },
 "nbformat": 4,
 "nbformat_minor": 5
}
