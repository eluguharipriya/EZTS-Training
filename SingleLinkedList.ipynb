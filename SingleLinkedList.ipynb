{
 "cells": [
  {
   "cell_type": "code",
   "execution_count": null,
   "id": "839878ad-0d49-4fbb-9eb4-bef216251976",
   "metadata": {},
   "outputs": [],
   "source": [
    "#Link List\n",
    "class Node:\n",
    "    def __init__(self,data):\n",
    "        self.value=data\n",
    "        self.next=None\n",
    "Head=Node(10)\n",
    "Head.next=Node(20)\n",
    "Head.next.next=Node(30)\n"
   ]
  },
  {
   "cell_type": "code",
   "execution_count": 1,
   "id": "1656826f-28c5-4c11-a83a-5e3101bb7ca0",
   "metadata": {},
   "outputs": [
    {
     "name": "stdout",
     "output_type": "stream",
     "text": [
      "<__main__.Node object at 0x0000014FC3D89D30>\n",
      "<__main__.Node object at 0x0000014FC3D8A9F0>\n",
      "<__main__.Node object at 0x0000014FC3D8A9F0>\n"
     ]
    }
   ],
   "source": [
    "class Node:\n",
    "    def __init__(self,data):\n",
    "        self.value=data\n",
    "        self.next=None\n",
    "Head=Tail=Node(10)\n",
    "Tail.next=Node(20)\n",
    "Tail=Tail.next\n",
    "\n",
    "Tail.next=Node(30)\n",
    "Tail=Tail.next\n",
    "\n",
    "Tail.next=Node(40)\n",
    "Tail=Tail.next\n",
    "\n",
    "print(Head)\n",
    "print(Tail)\n",
    "print(Head.next.next.next)"
   ]
  },
  {
   "cell_type": "code",
   "execution_count": 2,
   "id": "ca78bcaf-b1ad-4ff3-a531-adda8f740516",
   "metadata": {},
   "outputs": [
    {
     "name": "stdout",
     "output_type": "stream",
     "text": [
      "10\n",
      "20\n",
      "30\n",
      "40\n"
     ]
    }
   ],
   "source": [
    "def print_link_list(Head):\n",
    "    if Head==None:\n",
    "        print(\"List is Empty\")\n",
    "        return\n",
    "    curr=Head\n",
    "\n",
    "    while curr!=None:\n",
    "        print(curr.value)\n",
    "        curr=curr.next\n",
    "print_link_list(Head)        "
   ]
  },
  {
   "cell_type": "code",
   "execution_count": 2,
   "id": "d1cb9e88-456e-42fa-a0e5-a550957c67b0",
   "metadata": {},
   "outputs": [
    {
     "name": "stdin",
     "output_type": "stream",
     "text": [
      "Enter a string:  2*4\n"
     ]
    },
    {
     "name": "stdout",
     "output_type": "stream",
     "text": [
      "8.0\n"
     ]
    }
   ],
   "source": [
    "#LINKED LIST OPERATIONS\n",
    "#BASIC CALCULATOR\n",
    "# Given a string s representing a valid expression implement a basic calculator to evaluate it\n",
    "# and return the result of the evaluation.\n",
    "\n",
    "s=input(\"Enter a string: \")\n",
    "op=[\"+\",\"-\",\"*\",\"/\"]\n",
    "for i in op:\n",
    "    if i in s:\n",
    "        op=i\n",
    "        s=s.replace(i,\" \")\n",
    "        break\n",
    "result=list(map(float,s.split()))\n",
    "match op:\n",
    "    case \"+\":\n",
    "        r=result[0]+result[1]\n",
    "        print(r)\n",
    "    case \"-\":\n",
    "        r1=result[0]-result[1]\n",
    "        print(r1)\n",
    "    case \"*\":\n",
    "        r2=result[0]*result[1]\n",
    "        print(r2)\n",
    "    case \"/\":\n",
    "        r3=result[0]/result[1]\n",
    "        print(r3)\n",
    "    case _:\n",
    "        print(\"Invalid\")"
   ]
  }
 ],
 "metadata": {
  "kernelspec": {
   "display_name": "Python 3 (ipykernel)",
   "language": "python",
   "name": "python3"
  },
  "language_info": {
   "codemirror_mode": {
    "name": "ipython",
    "version": 3
   },
   "file_extension": ".py",
   "mimetype": "text/x-python",
   "name": "python",
   "nbconvert_exporter": "python",
   "pygments_lexer": "ipython3",
   "version": "3.12.4"
  }
 },
 "nbformat": 4,
 "nbformat_minor": 5
}
