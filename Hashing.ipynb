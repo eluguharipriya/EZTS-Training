{
 "cells": [
  {
   "cell_type": "code",
   "execution_count": 7,
   "id": "7c2d6a16-3057-4bc4-9d13-eb654077105b",
   "metadata": {},
   "outputs": [
    {
     "name": "stdout",
     "output_type": "stream",
     "text": [
      "10 100 20 \n",
      "62 72 \n",
      "16 86 76 \n",
      "7 \n",
      "99 \n"
     ]
    }
   ],
   "source": [
    "#Hashing(Chaning method)\n",
    "class node:\n",
    "    def __init__(self,data):\n",
    "        self.data=data\n",
    "        self.next=None\n",
    "\n",
    "\n",
    "input_list=[10,16,62,100,20,86,72,7,76,99]\n",
    "head_list=[None]*10\n",
    "for i in input_list:\n",
    "    reminder=i%10\n",
    "    if  head_list[reminder]==None:\n",
    "        head_list[reminder]=node(i)\n",
    "        \n",
    "    else:\n",
    "        \n",
    "        head=head_list[reminder]\n",
    "        while head.next:\n",
    "            head=head.next\n",
    "        head.next=node(i)\n",
    "                \n",
    "for i in head_list:\n",
    "    if i!=None:\n",
    "        print(i.data,end=\" \")\n",
    "        while i.next:\n",
    "            i=i.next\n",
    "            print(i.data,end=\" \")\n",
    "        print()"
   ]
  },
  {
   "cell_type": "code",
   "execution_count": 10,
   "id": "3dbb0f5f-36fa-4832-bc96-208a90d66eb0",
   "metadata": {},
   "outputs": [
    {
     "name": "stdout",
     "output_type": "stream",
     "text": [
      "[10, 100, 22, 42, 50, 92, 56, 47, 79, 99]\n"
     ]
    }
   ],
   "source": [
    "#closed Hashing\n",
    "input_list=[22,10,47,42,56,100,50,92,99,79]\n",
    "hash_list=[False]*10\n",
    "for i in input_list:\n",
    "    h_k=i%10\n",
    "    # if hash_list[h_k]==False:\n",
    "    #     hash_list[h_k]=i\n",
    "    # else:\n",
    "    for j in range(0,len(hash_list)):\n",
    "        h1_k=(h_k+j)%10\n",
    "        if hash_list[h1_k]==False:\n",
    "             hash_list[h1_k]=i\n",
    "             break\n",
    "            \n",
    "print(hash_list)"
   ]
  },
  {
   "cell_type": "code",
   "execution_count": null,
   "id": "4f8e6e9b-af95-49d8-8fd6-c4cb4b27102d",
   "metadata": {},
   "outputs": [],
   "source": []
  }
 ],
 "metadata": {
  "kernelspec": {
   "display_name": "Python 3 (ipykernel)",
   "language": "python",
   "name": "python3"
  },
  "language_info": {
   "codemirror_mode": {
    "name": "ipython",
    "version": 3
   },
   "file_extension": ".py",
   "mimetype": "text/x-python",
   "name": "python",
   "nbconvert_exporter": "python",
   "pygments_lexer": "ipython3",
   "version": "3.12.4"
  }
 },
 "nbformat": 4,
 "nbformat_minor": 5
}
